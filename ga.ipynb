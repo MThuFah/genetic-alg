{
 "cells": [
  {
   "cell_type": "markdown",
   "metadata": {},
   "source": [
    "# Corona Vaccine Distribution"
   ]
  },
  {
   "cell_type": "markdown",
   "metadata": {},
   "source": [
    "# Introduction"
   ]
  },
  {
   "cell_type": "markdown",
   "metadata": {},
   "source": [
    "## problem"
   ]
  },
  {
   "cell_type": "markdown",
   "metadata": {},
   "source": [
    "# Initiation"
   ]
  },
  {
   "cell_type": "code",
   "execution_count": 89,
   "metadata": {},
   "outputs": [],
   "source": [
    "# import module\n",
    "import random\n",
    "from operator import add\n",
    "from functools import reduce"
   ]
  },
  {
   "cell_type": "code",
   "execution_count": 90,
   "metadata": {},
   "outputs": [],
   "source": [
    "init_data = [50, 23, 19, 47, 48]\n",
    "vaksin = 323"
   ]
  },
  {
   "cell_type": "code",
   "execution_count": 91,
   "metadata": {},
   "outputs": [],
   "source": [
    "def create_individu(max):\n",
    "    return [random.randint(i, max) for i in init_data]"
   ]
  },
  {
   "cell_type": "code",
   "execution_count": 92,
   "metadata": {},
   "outputs": [],
   "source": [
    "def create_population(num_of_individu, max):\n",
    "    return [create_individu(max) for i in range(num_of_individu)]"
   ]
  },
  {
   "cell_type": "code",
   "execution_count": 93,
   "metadata": {},
   "outputs": [],
   "source": [
    "def fitness_value(individu, target):\n",
    "    summed = reduce(add, individu,0)\n",
    "    return int(target-summed)"
   ]
  },
  {
   "cell_type": "code",
   "execution_count": 94,
   "metadata": {},
   "outputs": [],
   "source": [
    "def calc_population_fitness(population, target):\n",
    "    return [fitness_value(individu, target) for individu in population]"
   ]
  },
  {
   "cell_type": "markdown",
   "metadata": {},
   "source": [
    "# Representation"
   ]
  },
  {
   "cell_type": "markdown",
   "metadata": {},
   "source": [
    "## 1 variable"
   ]
  },
  {
   "cell_type": "code",
   "execution_count": 95,
   "metadata": {},
   "outputs": [
    {
     "name": "stdout",
     "output_type": "stream",
     "text": [
      "[[50, 50, 53, 65, 57], [51, 66, 46, 47, 65], [62, 28, 33, 53, 49], [68, 25, 22, 69, 65], [58, 41, 70, 63, 61], [53, 24, 65, 57, 65], [53, 66, 43, 52, 68], [55, 70, 36, 57, 49], [57, 23, 40, 52, 62], [70, 61, 65, 61, 62]]\n",
      "[48, 48, 98, 74, 30, 59, 41, 56, 89, 4]\n"
     ]
    }
   ],
   "source": [
    "pop = create_population(10, 70)\n",
    "fitness = calc_population_fitness(pop, vaksin)\n",
    "print(pop)\n",
    "print(fitness)"
   ]
  },
  {
   "cell_type": "markdown",
   "metadata": {},
   "source": [
    "## 2 variable"
   ]
  },
  {
   "cell_type": "markdown",
   "metadata": {},
   "source": [
    "# Parent Selection"
   ]
  },
  {
   "cell_type": "markdown",
   "metadata": {},
   "source": [
    "## Roulette"
   ]
  },
  {
   "cell_type": "code",
   "execution_count": 96,
   "metadata": {},
   "outputs": [],
   "source": [
    "# roulete\n",
    "def roulette(population, fitness):\n",
    "    '''\n",
    "    aturan :\n",
    "    jika telah terpilih 1 \n",
    "    maka individu itu harus terdelete dari populasi untuk dilakukan roulete lagi\n",
    "    '''\n",
    "    summed = sum(fitness)\n",
    "    point = random.randint(0, summed)\n",
    "    total = 0\n",
    "    for individu in population:\n",
    "        total = total + fitness_value(individu, vaksin)\n",
    "        if point<total:\n",
    "            return individu\n",
    "        \n",
    "def remove_from_fitness(fitness, individu, vaksin):\n",
    "    indv_fitnes = fitness_value(individu, vaksin)\n",
    "    fitness.remove(indv_fitnes)\n",
    "    return fitness\n",
    "    \n",
    "def remove_individu_for_roulette(population, individu):\n",
    "    population.remove(individu)\n",
    "    return population"
   ]
  },
  {
   "cell_type": "code",
   "execution_count": 97,
   "metadata": {},
   "outputs": [],
   "source": [
    "selected_parent = []\n",
    "pop_for_roulete = pop\n",
    "fitness_for_roulete = fitness\n",
    "r1 = roulette(pop_for_roulete, fitness)\n",
    "\n",
    "selected_parent.append(r1)\n",
    "\n",
    "new_pop = remove_individu_for_roulette(pop_for_roulete, r1)\n",
    "new_fitness = remove_from_fitness(fitness_for_roulete, r1, vaksin)\n",
    "r2 = roulette(new_pop, new_fitness)\n",
    "\n",
    "selected_parent.append(r2)"
   ]
  },
  {
   "cell_type": "code",
   "execution_count": 98,
   "metadata": {},
   "outputs": [
    {
     "data": {
      "text/plain": [
       "[[57, 23, 40, 52, 62], [62, 28, 33, 53, 49]]"
      ]
     },
     "execution_count": 98,
     "metadata": {},
     "output_type": "execute_result"
    }
   ],
   "source": [
    "selected_parent"
   ]
  },
  {
   "cell_type": "markdown",
   "metadata": {},
   "source": [
    "## Simple Tournamen"
   ]
  },
  {
   "cell_type": "markdown",
   "metadata": {},
   "source": [
    "# Crossover"
   ]
  },
  {
   "cell_type": "markdown",
   "metadata": {},
   "source": [
    "## Uniform"
   ]
  },
  {
   "cell_type": "code",
   "execution_count": 114,
   "metadata": {},
   "outputs": [],
   "source": [
    "def uniform(parent):\n",
    "    treshold = 0.6\n",
    "    papa = parent[0]\n",
    "    mama = parent[1]\n",
    "    temp_indv = []\n",
    "    for i in range(len(papa)):\n",
    "        temp_indv.append(round(random.uniform(0,1), 1))\n",
    "        \n",
    "    print(temp_indv)\n",
    "    # swap process\n",
    "    offspring = []\n",
    "    for i, g in enumerate(temp_indv):\n",
    "        if g >= treshold:\n",
    "            #isi gen papa\n",
    "            offspring.append(papa[i])\n",
    "        elif g < treshold:\n",
    "            #isi gen mama\n",
    "            offspring.append(mama[i])\n",
    "    return offspring"
   ]
  },
  {
   "cell_type": "code",
   "execution_count": 115,
   "metadata": {},
   "outputs": [
    {
     "name": "stdout",
     "output_type": "stream",
     "text": [
      "[0.5, 0.6, 0.2, 0.3, 0.1]\n",
      "[62, 23, 33, 53, 49]\n",
      "[0.6, 0.4, 0.8, 1.0, 0.3]\n"
     ]
    },
    {
     "data": {
      "text/plain": [
       "97"
      ]
     },
     "execution_count": 115,
     "metadata": {},
     "output_type": "execute_result"
    }
   ],
   "source": [
    "print(uniform(selected_parent))\n",
    "#cek nilai fitnesnya \n",
    "fitness_value(uniform(selected_parent), vaksin)"
   ]
  },
  {
   "cell_type": "markdown",
   "metadata": {},
   "source": [
    "## Order Crossover"
   ]
  },
  {
   "cell_type": "markdown",
   "metadata": {},
   "source": [
    "# Mutation"
   ]
  },
  {
   "cell_type": "markdown",
   "metadata": {},
   "source": [
    "# Natural Selection"
   ]
  },
  {
   "cell_type": "markdown",
   "metadata": {},
   "source": [
    "## Replace Worst Individu"
   ]
  },
  {
   "cell_type": "markdown",
   "metadata": {},
   "source": [
    "## Replace Worst Parent"
   ]
  },
  {
   "cell_type": "code",
   "execution_count": null,
   "metadata": {},
   "outputs": [],
   "source": []
  }
 ],
 "metadata": {
  "kernelspec": {
   "display_name": "Python 3",
   "language": "python",
   "name": "python3"
  },
  "language_info": {
   "codemirror_mode": {
    "name": "ipython",
    "version": 3
   },
   "file_extension": ".py",
   "mimetype": "text/x-python",
   "name": "python",
   "nbconvert_exporter": "python",
   "pygments_lexer": "ipython3",
   "version": "3.6.8"
  },
  "toc": {
   "base_numbering": 1,
   "nav_menu": {},
   "number_sections": true,
   "sideBar": true,
   "skip_h1_title": false,
   "title_cell": "Table of Contents",
   "title_sidebar": "Contents",
   "toc_cell": false,
   "toc_position": {},
   "toc_section_display": true,
   "toc_window_display": false
  }
 },
 "nbformat": 4,
 "nbformat_minor": 2
}
